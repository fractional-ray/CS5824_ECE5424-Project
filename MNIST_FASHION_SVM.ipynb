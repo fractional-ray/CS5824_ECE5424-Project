{
  "nbformat": 4,
  "nbformat_minor": 0,
  "metadata": {
    "colab": {
      "name": "MNIST_FASHION_SVM.ipynb",
      "provenance": [],
      "collapsed_sections": [],
      "include_colab_link": true
    },
    "kernelspec": {
      "name": "python3",
      "display_name": "Python 3"
    }
  },
  "cells": [
    {
      "cell_type": "markdown",
      "metadata": {
        "id": "view-in-github",
        "colab_type": "text"
      },
      "source": [
        "<a href=\"https://colab.research.google.com/github/fractional-ray/CS5824_ECE5424-Project/blob/master/MNIST_FASHION_SVM.ipynb\" target=\"_parent\"><img src=\"https://colab.research.google.com/assets/colab-badge.svg\" alt=\"Open In Colab\"/></a>"
      ]
    },
    {
      "cell_type": "code",
      "metadata": {
        "id": "R0VXkUquolRC",
        "colab_type": "code",
        "colab": {}
      },
      "source": [
        "##Code created by Amanda Redhouse in Decemeber of 2019\n",
        "##Note: SVMs take a long time to train, about 45 minutes or so each, therefor google may time out. To run the program in its entirety, please download and run on your machine.\n",
        "\n",
        "import time\n",
        "import numpy as np\n",
        "import pandas as pd\n",
        "from sklearn.svm import SVC\n",
        "from keras.datasets import fashion_mnist\n",
        "from keras.datasets import mnist\n",
        "\n",
        "#load in datasets\n",
        "(fm_x_train, fm_y_train), (fm_x_test, fm_y_test) = fashion_mnist.load_data()\n",
        "(m_x_train, m_y_train), (m_x_test, m_y_test) = mnist.load_data()\n",
        "\n",
        "#re-shape to allow for input into SVC\n",
        "m_x_train = m_x_train.reshape(60000,784)\n",
        "m_x_test = m_x_test.reshape(10000,784)\n",
        "fm_x_train = m_x_train.reshape(60000,784)\n",
        "fm_x_test = m_x_test.reshape(10000,784)\n"
      ],
      "execution_count": 0,
      "outputs": []
    },
    {
      "cell_type": "code",
      "metadata": {
        "id": "h7nPR8diARTO",
        "colab_type": "code",
        "colab": {}
      },
      "source": [
        "#combine all data\n",
        "allMtrain = np.column_stack((m_y_train,m_x_train))\n",
        "allMtest = np.column_stack((m_y_test, m_x_test))\n",
        "allM = np.concatenate((allMtrain, allMtest), axis=0)\n",
        "\n",
        "allFtrain = np.column_stack((fm_y_train, fm_x_train))\n",
        "allFtest = np.column_stack((fm_y_test, fm_x_test))\n",
        "allF = np.concatenate((allFtrain, allFtest), axis=0)\n",
        "\n",
        "print(allF.shape)"
      ],
      "execution_count": 0,
      "outputs": []
    },
    {
      "cell_type": "code",
      "metadata": {
        "id": "xkrIV0JnolbR",
        "colab_type": "code",
        "colab": {}
      },
      "source": [
        "#shuffle\n",
        "np.random.shuffle(allM)\n",
        "np.random.shuffle(allF)\n",
        "\n",
        "#resplit into testing and training\n",
        "MNIST_train = allM[:59999, :]\n",
        "MNIST_test = allM[60000:, :]\n",
        "F_MNIST_train = allF[:59999, :]\n",
        "F_MNIST_test = allF[60000:, :]\n"
      ],
      "execution_count": 0,
      "outputs": []
    },
    {
      "cell_type": "code",
      "metadata": {
        "id": "WMWAixElolf1",
        "colab_type": "code",
        "colab": {}
      },
      "source": [
        "# Split labels from data\n",
        "X_tr = MNIST_train[:, 1:] \n",
        "y_tr = MNIST_train[:, 0]\n",
        "f_X_tr = F_MNIST_train[:, 1:] \n",
        "f_y_tr = F_MNIST_train[:, 0]\n",
        "\n",
        "X_test = MNIST_test[:, 1:]\n",
        "y_test = MNIST_test[:, 0]\n",
        "f_X_test = F_MNIST_test[:, 1:]\n",
        "f_y_test = F_MNIST_test[:, 0]\n",
        "\n",
        "#normalize data\n",
        "X_tr = X_tr/255.0\n",
        "X_test = X_test/255.0\n",
        "f_X_tr = f_X_tr/255.0\n",
        "f_X_test = f_X_test/255.0\n"
      ],
      "execution_count": 0,
      "outputs": []
    },
    {
      "cell_type": "code",
      "metadata": {
        "id": "0qVB6Vafolmj",
        "colab_type": "code",
        "colab": {}
      },
      "source": [
        "# Start performing tests\n",
        "#C=1, sigmoid = test 1\n",
        "print('Test 1: C=1, sigmoid')\n",
        "\n",
        "#declare SVCs with desired parameters \n",
        "clf_1M = SVC(kernel='sigmoid', C=1, gamma='auto')\n",
        "clf_1F = SVC(kernel='sigmoid', C=1, gamma='auto')\n",
        "\n",
        "#Test 1 - MNIST\n",
        "start = time.time()\n",
        "print('training MNIST test 1')\n",
        "#fit the model to the MNIST data\n",
        "clf_1M.fit(X_tr, y_tr)\n",
        "\n",
        "run_time = time.time() - start\n",
        "print('Test 1 MNIST run in %.3f s' % run_time)\n",
        "print(\"Test 1 MNIST Accuracy = %3.4f\" % (clf_1M.score(X_test, y_test)))\n",
        "\n",
        "#test 1 = FMNIST\n",
        "start = time.time()\n",
        "print('training FMNIST test 1')\n",
        "#Fit the model to the Fashion MNIST data\n",
        "clf_1F.fit(f_X_tr, f_y_tr)\n",
        "\n",
        "run_time = time.time() - start\n",
        "print('Test 1 Fashion MNIST run in %.3f s' % run_time)\n",
        "print(\"Test 1 Fashion MNIST Accuracy = %3.4f\" % (clf_1F.score(f_X_test, f_y_test)))\n",
        "print(' ')\n"
      ],
      "execution_count": 0,
      "outputs": []
    },
    {
      "cell_type": "code",
      "metadata": {
        "id": "y8H9MkTaolpk",
        "colab_type": "code",
        "colab": {}
      },
      "source": [
        "#C=10, poly = test 2\n",
        "print('Test 2: C=10, poly')\n",
        "\n",
        "clf_2M = SVC(kernel='poly', C=10, gamma='auto')\n",
        "clf_2F = SVC(kernel='poly', C=10, gamma='auto')\n",
        "\n",
        "#Test 2 - MNIST\n",
        "start = time.time()\n",
        "print('training MNIST test 2')\n",
        "clf_2M.fit(X_tr, y_tr)\n",
        "\n",
        "run_time = time.time() - start\n",
        "print('Test 2 MNIST run in %.3f s' % run_time)\n",
        "print(\"Test 2 MNIST Accuracy = %3.4f\" % (clf_2M.score(X_test, y_test)))\n",
        "\n",
        "#test 2 = FMNIST\n",
        "start = time.time()\n",
        "print('training FMNIST test 2')\n",
        "clf_2F.fit(f_X_tr, f_y_tr)\n",
        "\n",
        "run_time = time.time() - start\n",
        "print('Test 2 Fashion MNIST run in %.3f s' % run_time)\n",
        "print(\"Test 2 Fashion MNIST Accuracy = %3.4f\" % (clf_2F.score(f_X_test, f_y_test)))\n",
        "print(' ')\n",
        "\n"
      ],
      "execution_count": 0,
      "outputs": []
    },
    {
      "cell_type": "code",
      "metadata": {
        "id": "q2fDoPbZoly4",
        "colab_type": "code",
        "colab": {}
      },
      "source": [
        "\n",
        "#C=100, poly = test 3\n",
        "print('Test 3: C=100, poly')\n",
        "\n",
        "clf_3M = SVC(kernel='poly', C=100, gamma='auto')\n",
        "clf_3F = SVC(kernel='poly', C=100, gamma='auto')\n",
        "\n",
        "#Test 3 - MNIST\n",
        "start = time.time()\n",
        "print('training MNIST test 3')\n",
        "clf_3M.fit(X_tr, y_tr)\n",
        "\n",
        "run_time = time.time() - start\n",
        "print('Test 3 MNIST run in %.3f s' % run_time)\n",
        "print(\"Test 3 MNIST Accuracy = %3.4f\" % (clf_3M.score(X_test, y_test)))\n",
        "\n",
        "#test 3 = FMNIST\n",
        "start = time.time()\n",
        "print('training FMNIST test 3')\n",
        "clf_3F.fit(f_X_tr, f_y_tr)\n",
        "\n",
        "run_time = time.time() - start\n",
        "print('Test 3 Fashion MNIST run in %.3f s' % run_time)\n",
        "print(\"Test 3 Fashion MNIST Accuracy = %3.4f\" % (clf_3F.score(f_X_test, f_y_test)))\n",
        "print(' ')\n",
        "\n"
      ],
      "execution_count": 0,
      "outputs": []
    },
    {
      "cell_type": "code",
      "metadata": {
        "id": "b81MLChyolwe",
        "colab_type": "code",
        "colab": {}
      },
      "source": [
        "\n",
        "#C=10, rbf = test 4\n",
        "print('Test 4: C=10, rbf')\n",
        "\n",
        "clf_4M = SVC(kernel='rbf', C=10, gamma='auto')\n",
        "clf_4F = SVC(kernel='rbf', C=10, gamma='auto')\n",
        "\n",
        "#Test 4 - MNIST\n",
        "start = time.time()\n",
        "print('training MNIST test 4')\n",
        "clf_4M.fit(X_tr, y_tr)\n",
        "\n",
        "run_time = time.time() - start\n",
        "print('Test 4 MNIST run in %.3f s' % run_time)\n",
        "print(\"Test 4 MNIST Accuracy = %3.4f\" % (clf_4M.score(X_test, y_test)))\n",
        "\n",
        "#test 4 = FMNIST\n",
        "start = time.time()\n",
        "print('training FMNIST test 4')\n",
        "clf_4F.fit(f_X_tr, f_y_tr)\n",
        "\n",
        "run_time = time.time() - start\n",
        "print('Test 4 Fashion MNIST run in %.3f s' % run_time)\n",
        "print(\"Test 4 Fashion MNIST Accuracy = %3.4f\" % (clf_4F.score(f_X_test, f_y_test)))\n",
        "print(' ')\n",
        "\n"
      ],
      "execution_count": 0,
      "outputs": []
    },
    {
      "cell_type": "code",
      "metadata": {
        "id": "xLaYWXYXoluJ",
        "colab_type": "code",
        "colab": {}
      },
      "source": [
        "#C=100, rbf = test 5\n",
        "print('Test 5: C=100, rbf')\n",
        "\n",
        "clf_5M = SVC(kernel='rbf', C=100, gamma='auto')\n",
        "clf_5F = SVC(kernel='rbf', C=100, gamma='auto')\n",
        "\n",
        "#Test 5 - MNIST\n",
        "start = time.time()\n",
        "print('training MNIST test 5')\n",
        "clf_5M.fit(X_tr, y_tr)\n",
        "\n",
        "run_time = time.time() - start\n",
        "print('Test 5 MNIST run in %.3f s' % run_time)\n",
        "print(\"Test 5 MNIST Accuracy = %3.4f\" % (clf_5M.score(X_test, y_test)))\n",
        "\n",
        "#test 5 = FMNIST\n",
        "start = time.time()\n",
        "print('training FMNIST test 5')\n",
        "clf_5F.fit(f_X_tr, f_y_tr)\n",
        "\n",
        "run_time = time.time() - start\n",
        "print('Test 5 Fashion MNIST run in %.3f s' % run_time)\n",
        "print(\"Test 5 Fashion MNIST Accuracy = %3.4f\" % (clf_5F.score(f_X_test, f_y_test)))\n",
        "print(' ')"
      ],
      "execution_count": 0,
      "outputs": []
    }
  ]
}