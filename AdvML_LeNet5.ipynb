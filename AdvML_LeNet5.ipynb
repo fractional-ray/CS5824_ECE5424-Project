{
  "nbformat": 4,
  "nbformat_minor": 0,
  "metadata": {
    "colab": {
      "name": "AdvML-LeNet5.ipynb",
      "provenance": [],
      "collapsed_sections": []
    },
    "kernelspec": {
      "name": "python3",
      "display_name": "Python 3"
    },
    "accelerator": "GPU"
  },
  "cells": [
    {
      "cell_type": "code",
      "metadata": {
        "id": "PAW0PXJYbQSo",
        "colab_type": "code",
        "colab": {}
      },
      "source": [
        "import tensorflow as tf\n",
        "import numpy as np\n",
        "from tensorflow.keras import layers"
      ],
      "execution_count": 0,
      "outputs": []
    },
    {
      "cell_type": "markdown",
      "metadata": {
        "id": "Jba6HD921u4D",
        "colab_type": "text"
      },
      "source": [
        "# Fashion MNIST\n",
        "Dataset of 60,000 28x28 grayscale images of 10 fashion categories, along with a test set of 10,000 images.\n",
        "\n",
        "Label\tDescription\n",
        "* Label 0:\tT-shirt/top\n",
        "* Label 1:\tTrouser\n",
        "* Label 2:\tPullover\n",
        "* Label 3:\tDress\n",
        "* Label 4:\tCoat\n",
        "* Label 5:\tSandal\n",
        "* Label 6:\tShirt\n",
        "* Label 7:\tSneaker\n",
        "* Label 8:\tBag\n",
        "* Label 9:\tAnkle boot\n",
        "\n",
        "# MNIST\n",
        "Dataset of 60,000 28x28 grayscale images of the 10 digits, along with a test set of 10,000 images"
      ]
    },
    {
      "cell_type": "code",
      "metadata": {
        "id": "w5lnHhYH1Qhy",
        "colab_type": "code",
        "outputId": "b36298c9-1dbf-427c-f77d-a6f0a810f452",
        "colab": {
          "base_uri": "https://localhost:8080/",
          "height": 34
        }
      },
      "source": [
        "#Import both datasets\n",
        "from keras.datasets import fashion_mnist\n",
        "from keras.datasets import mnist\n",
        "\n",
        "(fm_x_train, fm_y_train), (fm_x_test, fm_y_test) = fashion_mnist.load_data()\n",
        "(m_x_train, m_y_train), (m_x_test, m_y_test) = mnist.load_data()\n",
        "\n",
        "# Adjust image to be of 1 channel to meet expectation of needy CNN\n",
        "fm_x_train = fm_x_train.reshape((fm_x_train.shape[0], 28, 28, 1)) \n",
        "fm_x_test = fm_x_test.reshape((fm_x_test.shape[0], 28, 28, 1)) \n",
        "m_x_train = m_x_train.reshape((m_x_train.shape[0], 28, 28, 1)) \n",
        "m_x_test = m_x_test.reshape((m_x_test.shape[0], 28, 28, 1)) \n",
        "\n",
        "# Pad the 28x28 images with zeros to be 32x32 so they will fit into the model\n",
        "fm_x_train = np.pad(fm_x_train, ((0,0),(2,2),(2,2),(0,0)) , mode='constant')\n",
        "fm_x_test = np.pad(fm_x_test, ((0,0),(2,2),(2,2),(0,0)) , mode='constant')\n",
        "m_x_train = np.pad(m_x_train, ((0,0),(2,2),(2,2),(0,0)) , mode='constant')\n",
        "m_x_test = np.pad(m_x_test, ((0,0),(2,2),(2,2),(0,0)) , mode='constant')\n",
        "\n",
        "print(\"Shape of training data: \", fm_x_train[0].shape)\n"
      ],
      "execution_count": 0,
      "outputs": [
        {
          "output_type": "stream",
          "text": [
            "Shape of training data:  (32, 32, 1)\n"
          ],
          "name": "stdout"
        }
      ]
    },
    {
      "cell_type": "code",
      "metadata": {
        "id": "TYLASYrZcJ4Y",
        "colab_type": "code",
        "outputId": "ffddf653-eb63-43cf-9488-be62a3330e0b",
        "colab": {
          "base_uri": "https://localhost:8080/",
          "height": 443
        }
      },
      "source": [
        "# Build your model \n",
        "# Code inspired by links in resources\n",
        "\n",
        "fm_model = tf.keras.Sequential()\n",
        "\n",
        "fm_model.add(layers.Conv2D(filters=6, kernel_size=(3, 3), activation='relu', input_shape=(32,32,1)))\n",
        "fm_model.add(layers.AveragePooling2D())\n",
        "\n",
        "fm_model.add(layers.Conv2D(filters=16, kernel_size=(3, 3), activation='relu'))\n",
        "fm_model.add(layers.AveragePooling2D())\n",
        "\n",
        "fm_model.add(layers.Flatten())\n",
        "\n",
        "fm_model.add(layers.Dense(units=120, activation='relu'))\n",
        "\n",
        "fm_model.add(layers.Dense(units=84, activation='relu'))\n",
        "\n",
        "fm_model.add(layers.Dense(units=10, activation = 'softmax'))\n",
        "\n",
        "mnist_model = tf.keras.models.clone_model(fm_model)\n",
        "\n",
        "fm_model.compile(loss=tf.keras.losses.sparse_categorical_crossentropy, \n",
        "              optimizer=tf.keras.optimizers.Adam(), metrics=['accuracy'])\n",
        "\n",
        "mnist_model.compile(loss=tf.keras.losses.sparse_categorical_crossentropy, \n",
        "              optimizer=tf.keras.optimizers.Adam(), metrics=['accuracy'])\n",
        "\n",
        "fm_model.summary()"
      ],
      "execution_count": 0,
      "outputs": [
        {
          "output_type": "stream",
          "text": [
            "Model: \"sequential_1\"\n",
            "_________________________________________________________________\n",
            "Layer (type)                 Output Shape              Param #   \n",
            "=================================================================\n",
            "conv2d_2 (Conv2D)            (None, 30, 30, 6)         60        \n",
            "_________________________________________________________________\n",
            "average_pooling2d_2 (Average (None, 15, 15, 6)         0         \n",
            "_________________________________________________________________\n",
            "conv2d_3 (Conv2D)            (None, 13, 13, 16)        880       \n",
            "_________________________________________________________________\n",
            "average_pooling2d_3 (Average (None, 6, 6, 16)          0         \n",
            "_________________________________________________________________\n",
            "flatten_1 (Flatten)          (None, 576)               0         \n",
            "_________________________________________________________________\n",
            "dense_3 (Dense)              (None, 120)               69240     \n",
            "_________________________________________________________________\n",
            "dense_4 (Dense)              (None, 84)                10164     \n",
            "_________________________________________________________________\n",
            "dense_5 (Dense)              (None, 10)                850       \n",
            "=================================================================\n",
            "Total params: 81,194\n",
            "Trainable params: 81,194\n",
            "Non-trainable params: 0\n",
            "_________________________________________________________________\n"
          ],
          "name": "stdout"
        }
      ]
    },
    {
      "cell_type": "code",
      "metadata": {
        "id": "WV-89t_dKc3R",
        "colab_type": "code",
        "outputId": "4d1752e7-9c18-4e77-a67a-3b5bfe7c4ac8",
        "colab": {
          "base_uri": "https://localhost:8080/",
          "height": 1000
        }
      },
      "source": [
        "# train and eval both models\n",
        "print(\"\\n\\n\\nFashion MNIST Training in progres...\")\n",
        "fm_hist = fm_model.fit(fm_x_train, fm_y_train, epochs=20, validation_split=0.1)\n",
        "print(\"\\nFashion MNIST - Testing trained model...\")\n",
        "fm_model.evaluate(fm_x_test, fm_y_test)\n",
        "\n",
        "print(\"\\n\\n\\nMNIST Training in progres...\")\n",
        "mnist_hist = mnist_model.fit(m_x_train, m_y_train, epochs=20, validation_split=0.1)\n",
        "print(\"\\nMNIST - Testing trained model...\")\n",
        "mnist_model.evaluate(m_x_test, m_y_test)"
      ],
      "execution_count": 0,
      "outputs": [
        {
          "output_type": "stream",
          "text": [
            "\n",
            "\n",
            "\n",
            "Fashion MNIST Training in progres...\n",
            "Train on 54000 samples, validate on 6000 samples\n",
            "Epoch 1/20\n",
            "54000/54000 [==============================] - 6s 104us/sample - loss: 0.5505 - acc: 0.8254 - val_loss: 0.3782 - val_acc: 0.8560\n",
            "Epoch 2/20\n",
            "54000/54000 [==============================] - 5s 100us/sample - loss: 0.3434 - acc: 0.8745 - val_loss: 0.3370 - val_acc: 0.8793\n",
            "Epoch 3/20\n",
            "54000/54000 [==============================] - 5s 100us/sample - loss: 0.3039 - acc: 0.8861 - val_loss: 0.3216 - val_acc: 0.8870\n",
            "Epoch 4/20\n",
            "54000/54000 [==============================] - 5s 99us/sample - loss: 0.2736 - acc: 0.8979 - val_loss: 0.2991 - val_acc: 0.8872\n",
            "Epoch 5/20\n",
            "54000/54000 [==============================] - 5s 99us/sample - loss: 0.2518 - acc: 0.9062 - val_loss: 0.2730 - val_acc: 0.8983\n",
            "Epoch 6/20\n",
            "54000/54000 [==============================] - 5s 97us/sample - loss: 0.2300 - acc: 0.9124 - val_loss: 0.2899 - val_acc: 0.8957\n",
            "Epoch 7/20\n",
            "54000/54000 [==============================] - 5s 99us/sample - loss: 0.2163 - acc: 0.9183 - val_loss: 0.2847 - val_acc: 0.9015\n",
            "Epoch 8/20\n",
            "54000/54000 [==============================] - 5s 99us/sample - loss: 0.1990 - acc: 0.9230 - val_loss: 0.2890 - val_acc: 0.9017\n",
            "Epoch 9/20\n",
            "54000/54000 [==============================] - 5s 100us/sample - loss: 0.1828 - acc: 0.9304 - val_loss: 0.2903 - val_acc: 0.9023\n",
            "Epoch 10/20\n",
            "54000/54000 [==============================] - 5s 98us/sample - loss: 0.1732 - acc: 0.9341 - val_loss: 0.3159 - val_acc: 0.8983\n",
            "Epoch 11/20\n",
            "54000/54000 [==============================] - 5s 99us/sample - loss: 0.1627 - acc: 0.9386 - val_loss: 0.3003 - val_acc: 0.9012\n",
            "Epoch 12/20\n",
            "54000/54000 [==============================] - 5s 98us/sample - loss: 0.1480 - acc: 0.9428 - val_loss: 0.3262 - val_acc: 0.9003\n",
            "Epoch 13/20\n",
            "54000/54000 [==============================] - 5s 99us/sample - loss: 0.1414 - acc: 0.9460 - val_loss: 0.3216 - val_acc: 0.9023\n",
            "Epoch 14/20\n",
            "54000/54000 [==============================] - 5s 97us/sample - loss: 0.1307 - acc: 0.9492 - val_loss: 0.3344 - val_acc: 0.8972\n",
            "Epoch 15/20\n",
            "54000/54000 [==============================] - 5s 100us/sample - loss: 0.1234 - acc: 0.9530 - val_loss: 0.3508 - val_acc: 0.8987\n",
            "Epoch 16/20\n",
            "54000/54000 [==============================] - 5s 98us/sample - loss: 0.1179 - acc: 0.9556 - val_loss: 0.3599 - val_acc: 0.9003\n",
            "Epoch 17/20\n",
            "54000/54000 [==============================] - 5s 99us/sample - loss: 0.1140 - acc: 0.9556 - val_loss: 0.3812 - val_acc: 0.9002\n",
            "Epoch 18/20\n",
            "54000/54000 [==============================] - 5s 99us/sample - loss: 0.1032 - acc: 0.9611 - val_loss: 0.4479 - val_acc: 0.8932\n",
            "Epoch 19/20\n",
            "54000/54000 [==============================] - 5s 99us/sample - loss: 0.0991 - acc: 0.9625 - val_loss: 0.4334 - val_acc: 0.8955\n",
            "Epoch 20/20\n",
            "54000/54000 [==============================] - 5s 99us/sample - loss: 0.0947 - acc: 0.9637 - val_loss: 0.4506 - val_acc: 0.8997\n",
            "\n",
            "Fashion MNIST - Testing trained model...\n",
            "10000/10000 [==============================] - 1s 52us/sample - loss: 0.4832 - acc: 0.8896\n",
            "\n",
            "\n",
            "\n",
            "MNIST Training in progres...\n",
            "Train on 54000 samples, validate on 6000 samples\n",
            "Epoch 1/20\n",
            "54000/54000 [==============================] - 6s 102us/sample - loss: 0.3392 - acc: 0.9354 - val_loss: 0.0770 - val_acc: 0.9755\n",
            "Epoch 2/20\n",
            "54000/54000 [==============================] - 5s 100us/sample - loss: 0.0741 - acc: 0.9770 - val_loss: 0.0641 - val_acc: 0.9807\n",
            "Epoch 3/20\n",
            "54000/54000 [==============================] - 5s 99us/sample - loss: 0.0529 - acc: 0.9834 - val_loss: 0.0586 - val_acc: 0.9842\n",
            "Epoch 4/20\n",
            "54000/54000 [==============================] - 5s 97us/sample - loss: 0.0446 - acc: 0.9859 - val_loss: 0.0485 - val_acc: 0.9875\n",
            "Epoch 5/20\n",
            "54000/54000 [==============================] - 5s 97us/sample - loss: 0.0371 - acc: 0.9881 - val_loss: 0.0478 - val_acc: 0.9873\n",
            "Epoch 6/20\n",
            "54000/54000 [==============================] - 5s 97us/sample - loss: 0.0303 - acc: 0.9903 - val_loss: 0.0504 - val_acc: 0.9870\n",
            "Epoch 7/20\n",
            "54000/54000 [==============================] - 5s 97us/sample - loss: 0.0261 - acc: 0.9915 - val_loss: 0.0530 - val_acc: 0.9877\n",
            "Epoch 8/20\n",
            "54000/54000 [==============================] - 5s 97us/sample - loss: 0.0219 - acc: 0.9929 - val_loss: 0.0514 - val_acc: 0.9882\n",
            "Epoch 9/20\n",
            "54000/54000 [==============================] - 5s 98us/sample - loss: 0.0205 - acc: 0.9936 - val_loss: 0.0422 - val_acc: 0.9900\n",
            "Epoch 10/20\n",
            "54000/54000 [==============================] - 5s 98us/sample - loss: 0.0165 - acc: 0.9947 - val_loss: 0.0507 - val_acc: 0.9893\n",
            "Epoch 11/20\n",
            "54000/54000 [==============================] - 5s 98us/sample - loss: 0.0161 - acc: 0.9950 - val_loss: 0.0561 - val_acc: 0.9883\n",
            "Epoch 12/20\n",
            "54000/54000 [==============================] - 5s 98us/sample - loss: 0.0147 - acc: 0.9953 - val_loss: 0.0492 - val_acc: 0.9893\n",
            "Epoch 13/20\n",
            "54000/54000 [==============================] - 5s 101us/sample - loss: 0.0119 - acc: 0.9965 - val_loss: 0.0583 - val_acc: 0.9902\n",
            "Epoch 14/20\n",
            "54000/54000 [==============================] - 5s 98us/sample - loss: 0.0141 - acc: 0.9953 - val_loss: 0.0749 - val_acc: 0.9887\n",
            "Epoch 15/20\n",
            "54000/54000 [==============================] - 5s 98us/sample - loss: 0.0105 - acc: 0.9969 - val_loss: 0.0632 - val_acc: 0.9880\n",
            "Epoch 16/20\n",
            "54000/54000 [==============================] - 5s 98us/sample - loss: 0.0096 - acc: 0.9971 - val_loss: 0.0758 - val_acc: 0.9900\n",
            "Epoch 17/20\n",
            "54000/54000 [==============================] - 5s 98us/sample - loss: 0.0109 - acc: 0.9966 - val_loss: 0.0756 - val_acc: 0.9873\n",
            "Epoch 18/20\n",
            "54000/54000 [==============================] - 5s 98us/sample - loss: 0.0106 - acc: 0.9968 - val_loss: 0.0867 - val_acc: 0.9877\n",
            "Epoch 19/20\n",
            "54000/54000 [==============================] - 5s 98us/sample - loss: 0.0100 - acc: 0.9971 - val_loss: 0.0899 - val_acc: 0.9888\n",
            "Epoch 20/20\n",
            "54000/54000 [==============================] - 5s 96us/sample - loss: 0.0077 - acc: 0.9980 - val_loss: 0.0927 - val_acc: 0.9892\n",
            "\n",
            "MNIST - Testing trained model...\n",
            "10000/10000 [==============================] - 1s 52us/sample - loss: 0.0697 - acc: 0.9883\n"
          ],
          "name": "stdout"
        },
        {
          "output_type": "execute_result",
          "data": {
            "text/plain": [
              "[0.06965413171593021, 0.9883]"
            ]
          },
          "metadata": {
            "tags": []
          },
          "execution_count": 9
        }
      ]
    },
    {
      "cell_type": "code",
      "metadata": {
        "id": "7TXmtRs_RQBu",
        "colab_type": "code",
        "outputId": "9d0a9349-cacf-4bee-9fe7-80bbef1c911d",
        "colab": {
          "base_uri": "https://localhost:8080/",
          "height": 573
        }
      },
      "source": [
        "from matplotlib import pyplot as plt\n",
        "\n",
        "plt.plot(fm_hist.history['acc'])\n",
        "plt.plot(mnist_hist.history['acc'])\n",
        "plt.title('Model Accuracy')\n",
        "plt.ylabel('Accuracy')\n",
        "plt.xlabel('Epoch')\n",
        "plt.legend(['fm_train', 'mnist_train'], loc='best')\n",
        "plt.show()\n",
        "\n",
        "plt.plot(fm_hist.history['loss'])\n",
        "plt.plot(mnist_hist.history['loss'])\n",
        "plt.title('Model Loss')\n",
        "plt.ylabel('Loss')\n",
        "plt.xlabel('Epoch')\n",
        "plt.legend(['fm_train', 'mnist_train'], loc='best')\n",
        "plt.show()\n",
        "\n",
        "\n",
        "\n"
      ],
      "execution_count": 0,
      "outputs": [
        {
          "output_type": "display_data",
          "data": {
            "image/png": "[encoded data removed]",
            "text/plain": [
              "<Figure size 432x288 with 1 Axes>"
            ]
          },
          "metadata": {
            "tags": []
          }
        },
        {
          "output_type": "display_data",
          "data": {
            "image/png": "[encoded data removed]",
            "text/plain": [
              "<Figure size 432x288 with 1 Axes>"
            ]
          },
          "metadata": {
            "tags": []
          }
        }
      ]
    },
    {
      "cell_type": "markdown",
      "metadata": {
        "id": "Q8IGiBGhzsaV",
        "colab_type": "text"
      },
      "source": [
        "## Resources:\n",
        "* https://colab.research.google.com/drive/1CVm50PGE4vhtB5I_a_yc4h5F-itKOVL9#scrollTo=qFBt-mvYsEhM\n",
        "\n",
        "* https://github.com/udacity/CarND-LeNet-Lab/blob/master/LeNet-Lab-Solution.ipynb\n",
        "\n",
        "* https://medium.com/@mgazar/lenet-5-in-9-lines-of-code-using-keras-ac99294c8086\n",
        "\n",
        "* https://www.pyimagesearch.com/2016/08/01/lenet-convolutional-neural-network-in-python/"
      ]
    }
  ]
}