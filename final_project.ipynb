{
  "nbformat": 4,
  "nbformat_minor": 0,
  "metadata": {
    "colab": {
      "name": "Untitled1.ipynb",
      "provenance": []
    },
    "kernelspec": {
      "name": "python3",
      "display_name": "Python 3"
    }
  },
  "cells": [
    {
      "cell_type": "code",
      "metadata": {
        "id": "5zTeHMuYtuzb",
        "colab_type": "code",
        "colab": {}
      },
      "source": [
        ""
      ],
      "execution_count": 0,
      "outputs": []
    },
    {
      "cell_type": "markdown",
      "metadata": {
        "id": "DyWWaeuit8Ex",
        "colab_type": "text"
      },
      "source": [
        "### Introduction\n",
        "I am inseting text\n",
        "\n",
        "[I'm a relative reference to a repository file](./fig/fanbeam)\n"
      ]
    }
  ]
}